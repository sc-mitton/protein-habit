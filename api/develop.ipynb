{
 "cells": [
  {
   "cell_type": "code",
   "execution_count": 22,
   "metadata": {},
   "outputs": [
    {
     "name": "stdout",
     "output_type": "stream",
     "text": [
      "The autoreload extension is already loaded. To reload it, use:\n",
      "  %reload_ext autoreload\n"
     ]
    }
   ],
   "source": [
    "import os\n",
    "from pprint import pprint\n",
    "from dotenv import load_dotenv\n",
    "from langchain_core.runnables import RunnableParallel, RunnableLambda\n",
    "from langchain.sql_database import SQLDatabase\n",
    "from langchain.chat_models import ChatOpenAI\n",
    "from langchain_core.output_parsers import StrOutputParser\n",
    "from db.comp_food_database import engine\n",
    "from db.comp_food_database import SessionLocal\n",
    "from sqlalchemy import text\n",
    "from rags.protein_amount.retrieval import (\n",
    "    get_restaurant_or_brand_prompt,\n",
    "    get_query,\n",
    "    food_items_prompt\n",
    ")\n",
    "from rags.protein_amount.generation import generation_prompt\n",
    "\n",
    "%load_ext autoreload\n",
    "%autoreload 2"
   ]
  },
  {
   "cell_type": "code",
   "execution_count": 23,
   "metadata": {},
   "outputs": [
    {
     "data": {
      "text/plain": [
       "True"
      ]
     },
     "execution_count": 23,
     "metadata": {},
     "output_type": "execute_result"
    }
   ],
   "source": [
    "environment = os.getenv('ENVIRONMENT', 'development')\n",
    "load_dotenv(f'.env.{environment}')"
   ]
  },
  {
   "cell_type": "code",
   "execution_count": 24,
   "metadata": {},
   "outputs": [],
   "source": [
    "conn = SessionLocal()"
   ]
  },
  {
   "cell_type": "code",
   "execution_count": 25,
   "metadata": {},
   "outputs": [],
   "source": [
    "llm4o = ChatOpenAI(model=\"gpt-4o\", temperature=0.0,\n",
    "                 openai_api_key=os.getenv('OPENAI_API_KEY'))\n",
    "\n",
    "llm4omini1 = ChatOpenAI(model=\"gpt-4o-mini\", temperature=0.0,\n",
    "                 openai_api_key=os.getenv('OPENAI_API_KEY'))\n",
    "llm4omini2 = ChatOpenAI(model=\"gpt-4o-mini\", temperature=0.0,\n",
    "                 openai_api_key=os.getenv('OPENAI_API_KEY'))\n",
    "\n",
    "db = SQLDatabase(\n",
    "    engine,\n",
    "    include_tables=[\n",
    "        'restaurant_menu_foods',\n",
    "        'restaurant_menu_foods_fts',\n",
    "        'branded_foods',\n",
    "        'branded_foods_fts',\n",
    "        'non_branded_foods',\n",
    "        'non_branded_foods_fts'\n",
    "])"
   ]
  },
  {
   "cell_type": "code",
   "execution_count": 26,
   "metadata": {},
   "outputs": [],
   "source": [
    "input_text = 'Mac and cheese'\n",
    "\n",
    "retrieval_chain = RunnableParallel(\n",
    "        restaurant_or_brand= get_restaurant_or_brand_prompt | llm4omini1,\n",
    "        food_items= food_items_prompt | llm4omini2\n",
    "    ) | RunnableLambda(get_query)\n",
    "\n",
    "query, retrieval_text = retrieval_chain.invoke({'text': input_text})\n",
    "result = conn.execute(text(query))\n",
    "data = result.fetchall()\n",
    "data = [tuple(result.keys()), *data] if len(data) > 0 else []"
   ]
  },
  {
   "cell_type": "markdown",
   "metadata": {},
   "source": []
  },
  {
   "cell_type": "code",
   "execution_count": 27,
   "metadata": {},
   "outputs": [
    {
     "name": "stdout",
     "output_type": "stream",
     "text": [
      "[('description', 'serving_size', 'protein_amount', 'rank'),\n",
      " ('Macaroni, vegetable, enriched, dry', 84.0, 11.04, -6.342855388814356),\n",
      " ('Macaroni, vegetable, enriched, cooked', 134.0, 6.07, -6.342855388814356),\n",
      " (\"CRACKER BARREL, macaroni n' cheese\", 175.0, 11.36, -5.994720289488606),\n",
      " ('Babyfood, macaroni and cheese, toddler', 113.0, 3.96, -5.994720289488606),\n",
      " ('Macaroni and Cheese, canned entree', 244.0, 8.25, -5.994720289488606),\n",
      " ('Macaroni and Cheese, canned, microwavable', 213.0, 12.74, -5.994720289488606),\n",
      " ('Macaroni and cheese, frozen entree', 137.0, 7.67, -5.994720289488606),\n",
      " ('Macaroni or noodles with cheese', 230.0, 19.96, -5.994720289488606),\n",
      " ('Pasta mix, classic cheeseburger macaroni, unprepared', 123.0, 14.27, -5.682812426652694),\n",
      " ('Babyfood, dinner, macaroni and cheese, junior', 28.35, 0.74, -5.682812426652694),\n",
      " ('Babyfood, dinner, macaroni and cheese, strained', 28.35, 0.89, -5.682812426652694),\n",
      " ('Beef and macaroni with cheese sauce', 246.0, 22.44, -5.682812426652694),\n",
      " ('Cheese, processed cheese food', 21.0, 3.38, -4.449030798765543),\n",
      " ('Cheese spread, cream cheese base', 28.35, 2.01, -4.287945831655472),\n",
      " ('Cheese spread, Swiss cheese base', 244.0, 40.04, -4.287945831655472),\n",
      " ('Cheese spread, cream cheese, regular', 240.0, 17.04, -4.287945831655472),\n",
      " ('Cheese spread, cream cheese, light', 240.0, 18.84, -4.287945831655472),\n",
      " ('Cheese, cottage cheese, with gelatin dessert', 240.0, 15.72, -4.138118007726456),\n",
      " ('Crackers, cheese, sandwich-type with cheese filling', 39.0, 3.48, -3.9984071381829156),\n",
      " ('Cheese spread, American or Cheddar cheese base', 140.0, 22.97, -3.9984071381829156),\n",
      " ('Bread, cheese', 48.0, 5.0, -3.890708178165552),\n",
      " ('Cheese, fontina', 132.0, 33.79, -3.890708178165552),\n",
      " ('Cheese, monterey', 132.0, 32.31, -3.890708178165552),\n",
      " ('Cheese, provolone', 132.0, 33.77, -3.890708178165552)]\n",
      "WITH\n",
      "query_1 AS (\n",
      "    SELECT t.description, t.serving_size, t.protein_amount, tfts.rank\n",
      "    FROM non_branded_foods t\n",
      "    INNER JOIN non_branded_foods_fts tfts\n",
      "    ON t.id = tfts.id\n",
      "    WHERE tfts.description MATCH '\"Macaroni\"'\n",
      "    ORDER BY tfts.rank\n",
      "    LIMIT 12\n",
      "),\n",
      "query_2 AS (\n",
      "    SELECT t.description, t.serving_size, t.protein_amount, tfts.rank\n",
      "    FROM non_branded_foods t\n",
      "    INNER JOIN non_branded_foods_fts tfts\n",
      "    ON t.id = tfts.id\n",
      "    WHERE tfts.description MATCH '\"Cheese\"'\n",
      "    ORDER BY tfts.rank\n",
      "    LIMIT 12\n",
      ")\n",
      "SELECT * FROM query_1\n",
      "UNION ALL\n",
      "SELECT * FROM query_2\n",
      "ORDER BY rank;\n",
      "{'food_items': '[\"Macaroni\", \"Cheese\"]'}\n"
     ]
    }
   ],
   "source": [
    "pprint(data)\n",
    "print(query)\n",
    "print(retrieval_text)"
   ]
  },
  {
   "cell_type": "code",
   "execution_count": 13,
   "metadata": {},
   "outputs": [
    {
     "name": "stdout",
     "output_type": "stream",
     "text": [
      "```json\n",
      "[\n",
      "    {\n",
      "        \"food_item\": \"Macaroni\",\n",
      "        \"protein_amount\": \"6.07\",\n",
      "        \"protein_unit\": \"grams\"\n",
      "    },\n",
      "    {\n",
      "        \"food_item\": \"Cheese\",\n",
      "        \"protein_amount\": \"3.38\",\n",
      "        \"protein_unit\": \"grams\"\n",
      "    }\n",
      "]\n",
      "```\n"
     ]
    }
   ],
   "source": [
    "\n",
    "generation_chain = generation_prompt | llm4omini2 | StrOutputParser()\n",
    "result = generation_chain.invoke({'data': data, 'text': retrieval_text, 'original_input': input_text})\n",
    "\n",
    "print(result)"
   ]
  }
 ],
 "metadata": {
  "kernelspec": {
   "display_name": ".venv",
   "language": "python",
   "name": "python3"
  },
  "language_info": {
   "codemirror_mode": {
    "name": "ipython",
    "version": 3
   },
   "file_extension": ".py",
   "mimetype": "text/x-python",
   "name": "python",
   "nbconvert_exporter": "python",
   "pygments_lexer": "ipython3",
   "version": "3.13.2"
  }
 },
 "nbformat": 4,
 "nbformat_minor": 2
}
