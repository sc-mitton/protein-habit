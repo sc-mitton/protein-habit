{
 "cells": [
  {
   "cell_type": "code",
   "execution_count": 1,
   "metadata": {},
   "outputs": [],
   "source": [
    "import os\n",
    "from pprint import pprint\n",
    "from dotenv import load_dotenv\n",
    "from langchain_core.runnables import RunnableParallel, RunnableLambda\n",
    "from langchain.sql_database import SQLDatabase\n",
    "from langchain.chat_models import ChatOpenAI\n",
    "from langchain_core.output_parsers import StrOutputParser\n",
    "from db.database import engine\n",
    "from db.database import SessionLocal\n",
    "from sqlalchemy import text\n",
    "from rags.protein_amount.retrieval import (\n",
    "    get_restaurant_or_brand_prompt,\n",
    "    get_query,\n",
    "    food_items_prompt\n",
    ")\n",
    "from rags.protein_amount.generation import generation_prompt\n",
    "\n",
    "%load_ext autoreload\n",
    "%autoreload 2"
   ]
  },
  {
   "cell_type": "code",
   "execution_count": 19,
   "metadata": {},
   "outputs": [
    {
     "data": {
      "text/plain": [
       "True"
      ]
     },
     "execution_count": 19,
     "metadata": {},
     "output_type": "execute_result"
    }
   ],
   "source": [
    "environment = os.getenv('ENVIRONMENT', 'dev')\n",
    "load_dotenv(f'.env.{environment}')"
   ]
  },
  {
   "cell_type": "code",
   "execution_count": 20,
   "metadata": {},
   "outputs": [],
   "source": [
    "conn = SessionLocal()"
   ]
  },
  {
   "cell_type": "code",
   "execution_count": 21,
   "metadata": {},
   "outputs": [],
   "source": [
    "llm4o = ChatOpenAI(model=\"gpt-4o\", temperature=0.0,\n",
    "                 openai_api_key=os.getenv('OPENAI_API_KEY'))\n",
    "\n",
    "llm4omini1 = ChatOpenAI(model=\"gpt-4o-mini\", temperature=0.0,\n",
    "                 openai_api_key=os.getenv('OPENAI_API_KEY'))\n",
    "llm4omini2 = ChatOpenAI(model=\"gpt-4o-mini\", temperature=0.0,\n",
    "                 openai_api_key=os.getenv('OPENAI_API_KEY'))\n",
    "\n",
    "db = SQLDatabase(\n",
    "    engine,\n",
    "    include_tables=[\n",
    "        'restaurant_menu_foods',\n",
    "        'restaurant_menu_foods_fts',\n",
    "        'branded_foods',\n",
    "        'branded_foods_fts',\n",
    "        'non_branded_foods',\n",
    "        'non_branded_foods_fts'\n",
    "])"
   ]
  },
  {
   "cell_type": "code",
   "execution_count": 22,
   "metadata": {},
   "outputs": [],
   "source": [
    "input_text = '9oz raw chicken breast'\n",
    "\n",
    "retrieval_chain = RunnableParallel(\n",
    "        restaurant_or_brand= get_restaurant_or_brand_prompt | llm4omini1,\n",
    "        food_items= food_items_prompt | llm4omini2\n",
    "    ) | RunnableLambda(get_query)\n",
    "\n",
    "query, retrieval_text = retrieval_chain.invoke({'text': input_text})\n",
    "result = conn.execute(text(query))\n",
    "data = result.fetchall()\n",
    "data = [tuple(result.keys()), *data] if len(data) > 0 else []"
   ]
  },
  {
   "cell_type": "code",
   "execution_count": 23,
   "metadata": {},
   "outputs": [
    {
     "name": "stdout",
     "output_type": "stream",
     "text": [
      "[('description', 'serving_size', 'protein_amount', 'rank'),\n",
      " ('Chicken, chicken roll, roasted', 135.0, 36.02, -4.24381336595823),\n",
      " ('Chicken salad or chicken spread sandwich', 141.0, 18.84, -3.9472418388235657),\n",
      " ('Chicken, meatless', 168.0, 39.72, -3.7112441150381192),\n",
      " ('Frankfurter, chicken', 85.0, 13.18, -3.7112441150381192),\n",
      " ('Fat, chicken', 12.8, 0.0, -3.7112441150381192),\n",
      " ('Chicken spread', 56.0, 10.09, -3.7112441150381192),\n",
      " ('Chicken, back', 160.0, 41.17, -3.7112441150381192),\n",
      " ('Chicken, tail', 30.0, 6.11, -3.7112441150381192),\n",
      " ('Chicken skin', 20.0, 4.04, -3.7112441150381192),\n",
      " ('Chicken feet', 35.0, 6.79, -3.7112441150381192),\n",
      " ('Chicken, ground', 130.0, 35.28, -3.7112441150381192),\n",
      " ('Chicken curry', 240.0, 15.53, -3.7112441150381192)]\n",
      "WITH\n",
      "query_1 AS (\n",
      "    SELECT t.description, t.serving_size, t.protein_amount, tfts.rank\n",
      "    FROM non_branded_foods t\n",
      "    INNER JOIN non_branded_foods_fts tfts\n",
      "    ON t.id = tfts.id\n",
      "    WHERE tfts.description MATCH '\"chicken\"'\n",
      "    ORDER BY tfts.rank\n",
      "    LIMIT 12\n",
      ")\n",
      "SELECT * FROM query_1\n",
      "ORDER BY rank;\n",
      "{'food_items': '[\"chicken\"]'}\n"
     ]
    }
   ],
   "source": [
    "pprint(data)\n",
    "print(query)\n",
    "print(retrieval_text)"
   ]
  },
  {
   "cell_type": "code",
   "execution_count": 24,
   "metadata": {},
   "outputs": [
    {
     "name": "stdout",
     "output_type": "stream",
     "text": [
      "```json\n",
      "[\n",
      "    {\n",
      "        \"food_item\": \"chicken breast\",\n",
      "        \"protein_amount\": \"63.00\",\n",
      "        \"protein_unit\": \"grams\"\n",
      "    }\n",
      "]\n",
      "```\n"
     ]
    }
   ],
   "source": [
    "\n",
    "generation_chain = generation_prompt | llm4omini2 | StrOutputParser()\n",
    "result = generation_chain.invoke({'data': data, 'text': retrieval_text, 'original_input': input_text})\n",
    "\n",
    "print(result)"
   ]
  },
  {
   "cell_type": "code",
   "execution_count": 7,
   "metadata": {},
   "outputs": [
    {
     "name": "stdout",
     "output_type": "stream",
     "text": [
      "(b'0\\x80\\x06\\t*\\x86H\\x86\\xf7\\r\\x01\\x07\\x02\\xa0\\x800\\x80\\x02\\x01\\x011\\x0f0\\r'\n",
      " b'\\x06\\t`\\x86H\\x01e\\x03\\x04\\x02\\x01\\x05\\x000\\x80\\x06\\t*\\x86H\\x86\\xf7\\r\\x01'\n",
      " b'\\x07\\x01\\xa0\\x80$\\x80\\x04\\x82\\x03\\xe81\\x82\\x04\\xde0/\\x02\\x01\\x02\\x02'\n",
      " b\"\\x01\\x01\\x04'0352187391.com.apple.example_app_attest0\\x82\\x03\\xc0\\x02\"\n",
      " b'\\x01\\x03\\x02\\x01\\x01\\x04\\x82\\x03\\xb60\\x82\\x03\\xb20\\x82\\x039\\xa0\\x03\\x02'\n",
      " b'\\x01\\x02\\x02\\x06\\x01\\x8e\\xf1\\xfdMJ0\\n\\x06\\x08*\\x86H\\xce=\\x04\\x03\\x020O1#0!'\n",
      " b'\\x06\\x03U\\x04\\x03\\x0c\\x1aApple App Attestation CA 11\\x130\\x11\\x06\\x03U'\n",
      " b'\\x04\\n\\x0c\\nApple Inc.1\\x130\\x11\\x06\\x03U\\x04\\x08\\x0c\\nCalifornia0'\n",
      " b'\\x1e\\x17\\r240417161453Z\\x17\\r240420161453Z0\\x81\\x911I0G\\x06\\x03U\\x04\\x03\\x0c'\n",
      " b'@6d2ac4845f1323322f5923f0bd9d22dbe50e06b7b80121fce2b2b5e66e9e98d61\\x1a0'\n",
      " b'\\x18\\x06\\x03U\\x04\\x0b\\x0c\\x11AAA Certification1\\x130\\x11\\x06\\x03U'\n",
      " b'\\x04\\n\\x0c\\nApple Inc.1\\x130\\x11\\x06\\x03U\\x04\\x08\\x0c\\nCalifornia0Y0\\x13\\x06'\n",
      " b'\\x07*\\x86H\\xce=\\x02\\x01\\x06\\x08*\\x86H\\xce=\\x03\\x01\\x07\\x03B\\x00\\x04\\x8c.'\n",
      " b'\\x0c\\xabo\\x92#\\x97\\x0e\\x7fZ\\xb6\\xe9/\\xd7\\xa4\\xd6\\xd6!\\xa6\\x0eT\\x86D\\xbf\\x19'\n",
      " b'vN\\xf1\\xef\\x856\\x11\\xf6\\xc2\\xb6\\xbbS\\xb2\\xbb\\xa2\\xd3F\\x81\\x97\\xe4\\xbe\\xab,6'\n",
      " b'\\xca\\xc0\\xe4\\xe2OA\\xf3Q2\\xc9G^\\\\$\\xa3\\x82\\x01\\xbc0\\x82\\x01\\xb80\\x0c'\n",
      " b'\\x06\\x03U\\x1d\\x13\\x01\\x01\\xff\\x04\\x020\\x000\\x0e\\x06\\x03U\\x1d\\x0f\\x01'\n",
      " b'\\x01\\xff\\x04\\x04\\x03\\x02\\x04\\xf00\\x81\\x88\\x06\\t*\\x86H\\x86\\xf7cd\\x08\\x05\\x04{'\n",
      " b'0y\\xa4\\x03\\x02\\x01\\n\\xbf\\x890\\x03\\x02\\x01\\x01\\xbf\\x891\\x03\\x02\\x01'\n",
      " b\"\\x00\\xbf\\x892\\x03\\x02\\x01\\x01\\xbf\\x893\\x03\\x02\\x01\\x01\\xbf\\x894)\\x04'0352187\"\n",
      " b'391.com.apple.example_app_attest\\xa5\\x06\\x04\\x04sks \\xbf\\x896\\x03'\n",
      " b'\\x02\\x01\\x05\\xbf\\x897\\x03\\x02\\x01\\x00\\xbf\\x899\\x03\\x02\\x01\\x00\\xbf\\x89:'\n",
      " b'\\x03\\x02\\x01\\x00\\xbf\\x89;\\x03\\x02\\x01\\x000\\x81\\xd7\\x06\\t*\\x86H\\x86\\xf7cd\\x08'\n",
      " b'\\x07\\x04\\x81\\xc90\\x81\\xc6\\xbf\\x8ax\\x06\\x04\\x0418.0\\xbf\\x88P\\x07\\x02\\x05\\x00'\n",
      " b'\\xff\\xff\\xff\\xff\\xbf\\x8a{\\t\\x04\\x0722A244b\\xbf\\x8a|\\x06\\x04\\x0418.0\\xbf'\n",
      " b'\\x8a}\\x06\\x04\\x0418.0\\xbf\\x8a~\\x03\\x02\\x01\\x00\\xbf\\x8a\\x7f\\x03'\n",
      " b'\\x02\\x01\\x00\\xbf\\x8b\\x00\\x03\\x02\\x01\\x00\\xbf\\x8b\\x01\\x03\\x02\\x01'\n",
      " b'\\x00\\xbf\\x8b\\x02\\x03\\x02\\x01\\x00\\xbf\\x8b\\x03\\x03\\x02\\x01\\x00\\xbf'\n",
      " b'\\x8b\\x04\\x03\\x02\\x01\\x01\\xbf\\x8b\\x05\\x03\\x02\\x01\\x00\\xbf\\x8b\\n\\x10\\x04\\x0e2'\n",
      " b'2.1.244.0.2,0\\xbf\\x8b\\x0b\\x10\\x04\\x0e22.1.244.0.2,0\\xbf\\x8b\\x0c\\x10\\x04\\x0e2'\n",
      " b'2.1.244.0.2,0\\xbf\\x88\\x02\\n\\x04\\x08iphoneos\\xbf\\x88\\x05\\n\\x04\\x08Interna'\n",
      " b'l03\\x06\\t*\\x86H\\x86\\xf7cd\\x08\\x02\\x04&0$\\xa1\"\\x04 \\xfbm\\x16*q~\\xca\\xb1w\\x89'\n",
      " b'\\x00Po\\xa9Mg\\xee\\x0c\\x1d\\xc3\\xd4[\\x12\\xcd\\xde\\x81\\xbe\\xfcV\\xe5\\xb7\\xeb0\\n'\n",
      " b'\\x06\\x08*\\x86H\\xce=\\x04\\x03\\x02\\x03g\\x000d\\x020\"N/\\x1eZ\\x02\\xeb'\n",
      " b'\\x80\\xb2\\x1b\\xbcd\\xeaa\\x02\\xdb\\x03d\\xe2\\x11o\\xf8*\\xf2\\x07\\x10\\x93'\n",
      " b'\\x8a\\xb1\\xb8d\\xe7Q\\x82\\xed\\x02\\xae\\xf1n\\x8f|\\xd0\\x12kK\\rG\\xb6\\x020\\x02'\n",
      " b'\\x8bf\\x1el,\\xb2\\xce\\x17|\\x03\\x01\\xf5\\x86\\xf2\\xe0\"\\xbaf2=\\x80&,\\xb4'\n",
      " b'\\x8a\\xcfY\\xe4\\xe2\\xc3\\x04\\x81\\xfabL\\xfd\\x04\\xd5\\x17\\xd0\\x80V\\x18\\x99'\n",
      " b'^\\xc2\\xa7k\\xda%0\\x1d\\x02\\x01\\x04\\x02\\x01\\x01\\x04\\x15test_server_challeng'\n",
      " b'e0`\\x02\\x01\\x05\\x02\\x01\\x01\\x04X14bWY6aFdosmykCk8jXQBfW9reXF0QTgwT8SpzmG7'\n",
      " b'mcMGopd3bcYTt6+vjJe6qtFJADZag2DVbVF0ja5Mmuapg==0\\x0e\\x02\\x01\\x06'\n",
      " b'\\x02\\x01\\x01\\x04\\x06ATTEST0\\x12\\x02\\x01\\x07\\x02\\x01\\x01\\x04\\nproduction0'\n",
      " b' \\x02\\x01\\x0c\\x02\\x01\\x01\\x04\\x182024-04-18T16:14:54.209Z0 \\x02'\n",
      " b'\\x01\\x15\\x02\\x01\\x01\\x04\\x182024-07-17T16:14:54.209Z\\x00\\x00\\x00\\x00\\x00'\n",
      " b'\\x00\\xa0\\x800\\x82\\x03\\xae0\\x82\\x03T\\xa0\\x03\\x02\\x01\\x02\\x02\\x10~\\x02'\n",
      " b\"\\x12`\\xd8\\xcew\\xabr\\xa5\\x9d\\xf0h'\\xbe\\xfd0\\n\\x06\\x08*\\x86H\\xce=\\x04\"\n",
      " b\"\\x03\\x020|100.\\x06\\x03U\\x04\\x03\\x0c'Apple Application Integration CA 5 - \"\n",
      " b'G11&0$\\x06\\x03U\\x04\\x0b\\x0c\\x1dApple Certification Authority1\\x13'\n",
      " b'0\\x11\\x06\\x03U\\x04\\n\\x0c\\nApple Inc.1\\x0b0\\t\\x06\\x03U\\x04\\x06\\x13\\x02US'\n",
      " b'0\\x1e\\x17\\r240227183952Z\\x17\\r250328183951Z0Z1604\\x06\\x03U\\x04\\x03\\x0c-App'\n",
      " b'lication Attestation Fraud Receipt Signing1\\x130\\x11\\x06\\x03U\\x04\\n\\x0c\\nApp'\n",
      " b'le Inc.1\\x0b0\\t\\x06\\x03U\\x04\\x06\\x13\\x02US0Y0\\x13\\x06\\x07*\\x86H\\xce=\\x02'\n",
      " b'\\x01\\x06\\x08*\\x86H\\xce=\\x03\\x01\\x07\\x03B\\x00\\x04T7\\xb8\\x82\\xc6O\\xc5\\x13\\xe9'\n",
      " b'zQ\\xe7\\x12tU\\xe1K\\x1a\\x90\\x0b\\x99\\x8b\\xd7\\xd4\\x16\\x87i?\\x0b\\xd8\\x93\\xca\\x8b'\n",
      " b'5\\xea=X#\\xc9ju\\xad\\xfcL\\xb7\\x7f\\x92\\xcc)\\x99\\x90\\x93\\xd9\\xc6\\xdc-\\x18'\n",
      " b'\\x00\\xc9\\x03 \\xf4{D\\xa3\\x82\\x01\\xd80\\x82\\x01\\xd40\\x0c\\x06\\x03U'\n",
      " b'\\x1d\\x13\\x01\\x01\\xff\\x04\\x020\\x000\\x1f\\x06\\x03U\\x1d#\\x04\\x180\\x16'\n",
      " b'\\x80\\x14\\xd9\\x17\\xfeKg\\x908K\\x92\\xf4\\xdb\\xce\\xd5W\\x80\\x14\\x0b\\x8f=\\xc90C'\n",
      " b'\\x06\\x08+\\x06\\x01\\x05\\x05\\x07\\x01\\x01\\x0470503\\x06\\x08+\\x06\\x01\\x05\\x05\\x07'\n",
      " b\"0\\x01\\x86'http://ocsp.apple.com/ocsp03-aaica5g1010\\x82\\x01\\x1c\\x06\\x03U\\x1d \"\n",
      " b'\\x04\\x82\\x01\\x130\\x82\\x01\\x0f0\\x82\\x01\\x0b\\x06\\t*\\x86H\\x86\\xf7cd\\x05\\x010'\n",
      " b'\\x81\\xfd0\\x81\\xc3\\x06\\x08+\\x06\\x01\\x05\\x05\\x07\\x02\\x020\\x81\\xb6\\x0c\\x81'\n",
      " b'\\xb3Reliance on this certificate by any party assumes acceptance of the the'\n",
      " b'n applicable standard terms and conditions of use, certificate policy and ce'\n",
      " b'rtification practice statements.05\\x06\\x08+\\x06\\x01\\x05\\x05\\x07\\x02\\x01'\n",
      " b'\\x16)http://www.apple.com/certificateauthority0\\x1d\\x06\\x03U\\x1d\\x0e\\x04\\x16'\n",
      " b'\\x04\\x14+\\xcfI\\x1e\\xfb\\xcf\\x1by\\x0e\\xf0\\xaf\\x02)\\x13\\xb5\\x01\\x16\\xe1y40\\x0e'\n",
      " b'\\x06\\x03U\\x1d\\x0f\\x01\\x01\\xff\\x04\\x04\\x03\\x02\\x07\\x800\\x0f\\x06\\t*\\x86'\n",
      " b'H\\x86\\xf7cd\\x0c\\x0f\\x04\\x02\\x05\\x000\\n\\x06\\x08*\\x86H\\xce=\\x04\\x03\\x02\\x03'\n",
      " b'H\\x000E\\x02!\\x00\\x87\\xa8\\t+t_\\x98@\\xc5:\\x94!A\\x1a]\\x8b\\xaa\\t\\x80\\xd4\\x86'\n",
      " b'\\x92\\xd5\\xd6\\xd2\\x99\\x99\\xd0x\\xc7\\xca\\xb5\\x02 ?eS\\x8c\\x13,\\xcf\\x8804\\xb0'\n",
      " b'Gu\\xe8\\x97S\\xcf\\xcf\\xd3\\xf7D\\x83U\\xba\\x97V\\\\}\\x8a\\x06\\x81\\x1c0\\x82\\x02'\n",
      " b'\\xf90\\x82\\x02\\x7f\\xa0\\x03\\x02\\x01\\x02\\x02\\x10V\\xfb\\x83\\xd4+\\xff\\x8d\\xc3'\n",
      " b'7\\x99#\\xb5Z\\xaen\\xbd0\\n\\x06\\x08*\\x86H\\xce=\\x04\\x03\\x030g1\\x1b0\\x19\\x06\\x03'\n",
      " b'U\\x04\\x03\\x0c\\x12Apple Root CA - G31&0$\\x06\\x03U\\x04\\x0b\\x0c\\x1dApple Cert'\n",
      " b'ification Authority1\\x130\\x11\\x06\\x03U\\x04\\n\\x0c\\nApple Inc.1\\x0b0\\t'\n",
      " b'\\x06\\x03U\\x04\\x06\\x13\\x02US0\\x1e\\x17\\r190322175333Z\\x17\\r340322000000Z0|1'\n",
      " b\"00.\\x06\\x03U\\x04\\x03\\x0c'Apple Application Integration CA 5 - G11&0\"\n",
      " b'$\\x06\\x03U\\x04\\x0b\\x0c\\x1dApple Certification Authority1\\x130\\x11\\x06\\x03U'\n",
      " b'\\x04\\n\\x0c\\nApple Inc.1\\x0b0\\t\\x06\\x03U\\x04\\x06\\x13\\x02US0Y0\\x13\\x06'\n",
      " b'\\x07*\\x86H\\xce=\\x02\\x01\\x06\\x08*\\x86H\\xce=\\x03\\x01\\x07\\x03B\\x00\\x04\\x92\\xce'\n",
      " b'c\\xbd}\\x86\\xb1\\xab(\\n;\\x1c\\xe1\\xaf\\xfb\\x04\\x94\\x80\\x91\\xac\\xf61\\xdf\\xa6\\xcb('\n",
      " b'5oDK\\xe1!\\xe5W\\xdd\\x12\\x8d\\x8d\\xba\\x82|\\x95\\xbeI\\xfa\\xbe3\\xca\\xae\\xcd'\n",
      " b'\\x04\\x19\\xf1/C%\\xfa\\xf4\\xbe\\xb3\\xcb\\x83~\\xba\\xa3\\x81\\xf70\\x81\\xf4'\n",
      " b'0\\x0f\\x06\\x03U\\x1d\\x13\\x01\\x01\\xff\\x04\\x050\\x03\\x01\\x01\\xff0\\x1f\\x06'\n",
      " b'\\x03U\\x1d#\\x04\\x180\\x16\\x80\\x14\\xbb\\xb0\\xde\\xa1X3\\x88\\x9a\\xa4\\x8a'\n",
      " b'\\x99\\xde\\xbe\\xbd\\xeb\\xaf\\xda\\xcb$\\xab0F\\x06\\x08+\\x06\\x01\\x05\\x05\\x07'\n",
      " b'\\x01\\x01\\x04:0806\\x06\\x08+\\x06\\x01\\x05\\x05\\x070\\x01\\x86*http://ocsp.apple.co'\n",
      " b'm/ocsp03-applerootcag307\\x06\\x03U\\x1d\\x1f\\x0400.0,\\xa0*\\xa0(\\x86&http://crl.'\n",
      " b'apple.com/applerootcag3.crl0\\x1d\\x06\\x03U\\x1d\\x0e\\x04\\x16\\x04\\x14\\xd9\\x17'\n",
      " b'\\xfeKg\\x908K\\x92\\xf4\\xdb\\xce\\xd5W\\x80\\x14\\x0b\\x8f=\\xc90\\x0e\\x06\\x03U\\x1d'\n",
      " b'\\x0f\\x01\\x01\\xff\\x04\\x04\\x03\\x02\\x01\\x060\\x10\\x06\\n*\\x86H\\x86\\xf7c'\n",
      " b'd\\x06\\x02\\x03\\x04\\x02\\x05\\x000\\n\\x06\\x08*\\x86H\\xce=\\x04\\x03\\x03\\x03h\\x000'\n",
      " b'e\\x021\\x00\\x8do\\xa6\\x9f\\xa1\\xe0\\xe4\\xec[Ns\\x8a\\x92\\x7f=xS\\x98\\x8f\\xf4'\n",
      " b'\\xda\\x1fX\\x1e\\xc3uJ\\xfe8\\xa8L*\\x83\\x1a\\x1a\\xaa\\r\\xa6dm\\xe1\\xb9\\x93\\xe8'\n",
      " b'\\xd1UL\\xed\\x020g;,\\xb4\\xe1\\xe87\\x07w\\xcb\\xd5\\xecv\\xa8\\x1a:U;?5j\\xc8'\n",
      " b'\\xc5\\xe6\\x92\\xb0\\xe1a\\xbe\\x80Ii\\xe4_+\\xa9l\\xe1\\x11\\x02\\xaa\\xcca\\xd98\\xb7'\n",
      " b'sJ0\\x82\\x02C0\\x82\\x01\\xc9\\xa0\\x03\\x02\\x01\\x02\\x02\\x08-\\xc5\\xfc\\x88\\xd2\\xc5K'\n",
      " b'\\x950\\n\\x06\\x08*\\x86H\\xce=\\x04\\x03\\x030g1\\x1b0\\x19\\x06\\x03U\\x04\\x03'\n",
      " b'\\x0c\\x12Apple Root CA - G31&0$\\x06\\x03U\\x04\\x0b\\x0c\\x1dApple Certification A'\n",
      " b'uthority1\\x130\\x11\\x06\\x03U\\x04\\n\\x0c\\nApple Inc.1\\x0b0\\t\\x06\\x03U'\n",
      " b'\\x04\\x06\\x13\\x02US0\\x1e\\x17\\r140430181906Z\\x17\\r390430181906Z0g1\\x1b0\\x19'\n",
      " b'\\x06\\x03U\\x04\\x03\\x0c\\x12Apple Root CA - G31&0$\\x06\\x03U\\x04\\x0b\\x0c\\x1dAppl'\n",
      " b'e Certification Authority1\\x130\\x11\\x06\\x03U\\x04\\n\\x0c\\nApple Inc.1\\x0b'\n",
      " b'0\\t\\x06\\x03U\\x04\\x06\\x13\\x02US0v0\\x10\\x06\\x07*\\x86H\\xce=\\x02\\x01'\n",
      " b'\\x06\\x05+\\x81\\x04\\x00\"\\x03b\\x00\\x04\\x98\\xe9/=@r\\xa4\\xed\\x93\"r\\x81\\x13'\n",
      " b'\\x1c\\xdd\\x10\\x95\\xf1\\xc5\\xa3Nq\\xdc\\x14\\x16\\xd9\\x0e\\xe5\\xa6\\x05*wd{_N8'\n",
      " b'\\xd3\\xbb\\x1cD\\xb5\\x7f\\xf5\\x1f\\xb62b]\\xc9\\xe9\\x84[O0O\\x11Z\\x00\\xfdX'\n",
      " b'X\\x0c\\xa5\\xf5\\x0f,M\\x07G\\x13u\\xda\\x97\\x97\\x97o1\\\\\\xed+\\x9d{ ;\\xd8\\xb9T\\xd9'\n",
      " b'^\\x99\\xa4:Q\\n1\\xa3B0@0\\x1d\\x06\\x03U\\x1d\\x0e\\x04\\x16\\x04\\x14\\xbb\\xb0'\n",
      " b'\\xde\\xa1X3\\x88\\x9a\\xa4\\x8a\\x99\\xde\\xbe\\xbd\\xeb\\xaf\\xda\\xcb$\\xab0\\x0f'\n",
      " b'\\x06\\x03U\\x1d\\x13\\x01\\x01\\xff\\x04\\x050\\x03\\x01\\x01\\xff0\\x0e\\x06\\x03U'\n",
      " b'\\x1d\\x0f\\x01\\x01\\xff\\x04\\x04\\x03\\x02\\x01\\x060\\n\\x06\\x08*\\x86H\\xce='\n",
      " b'\\x04\\x03\\x03\\x03h\\x000e\\x021\\x00\\x83\\xe9\\xc1\\xc4\\x16^\\x1a]4\\x18\\xd9\\xed\\xef'\n",
      " b'\\xf4l\\x0e\\x00FK\\xb8\\xdf\\xb2F\\x11\\xc5\\x0f\\xfd\\xe6z\\x8c\\xa1\\xa6k'\n",
      " b'\\xce\\xc2\\x03\\xd4\\x9c\\xf5\\x93\\xc6t\\xb8j\\xdf\\xaa#\\x15\\x020mf\\x8a\\x10\\xca\\xd4\\r'\n",
      " b'\\xd4O\\xcd\\x8dC>\\xb4\\x8ac\\xa53n\\xe3m\\xda\\x17\\xb7d\\x1f\\xc8S&\\xf9\\x88bt9\\x0b'\n",
      " b'\\x17[\\xcbQ\\xa8\\x0c\\xe8\\x18\\x03\\xe7\\xa2\\xb2(\\x00\\x001\\x81\\xfd0\\x81'\n",
      " b\"\\xfa\\x02\\x01\\x010\\x81\\x900|100.\\x06\\x03U\\x04\\x03\\x0c'Apple Application In\"\n",
      " b'tegration CA 5 - G11&0$\\x06\\x03U\\x04\\x0b\\x0c\\x1dApple Certification Author'\n",
      " b'ity1\\x130\\x11\\x06\\x03U\\x04\\n\\x0c\\nApple Inc.1\\x0b0\\t\\x06\\x03U\\x04'\n",
      " b\"\\x06\\x13\\x02US\\x02\\x10~\\x02\\x12`\\xd8\\xcew\\xabr\\xa5\\x9d\\xf0h'\\xbe\\xfd0\"\n",
      " b'\\r\\x06\\t`\\x86H\\x01e\\x03\\x04\\x02\\x01\\x05\\x000\\n\\x06\\x08*\\x86H\\xce=\\x04'\n",
      " b'\\x03\\x02\\x04G0E\\x02 ]$\\xf4.-\\r\\x1b\\xb0\\xa2\\x15\\x0c\\x08\\xb7\\xcf\\xb1aU\\xd3F$'\n",
      " b'\\x16\\x0fT\\xab\\xe2\\xc7W*3\\rJ\\x08\\x02!\\x00\\xce\\x18[\\x9eN\\x98\\x84\\\\\"\\xe5+\\xed['\n",
      " b'c\\xc0z\\xad\\xbej\\xe4f6V\\xaf\\xe1\\x9fK\\x8fT\\xbf\\xc2\\x9b\\x00\\x00\\x00\\x00\\x00'\n",
      " b'\\x00')\n"
     ]
    }
   ],
   "source": [
    "import base64\n",
    "import cbor2\n",
    "from pprint import pprint\n",
    "\n",
    "attestation = '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'\n",
    "attestation_data = base64.b64decode(attestation)\n",
    "decoded_attestation = cbor2.loads(attestation_data)\n",
    "\n",
    "pprint(decoded_attestation['attStmt']['receipt'])"
   ]
  },
  {
   "cell_type": "code",
   "execution_count": null,
   "metadata": {},
   "outputs": [],
   "source": []
  }
 ],
 "metadata": {
  "kernelspec": {
   "display_name": ".venv",
   "language": "python",
   "name": "python3"
  },
  "language_info": {
   "codemirror_mode": {
    "name": "ipython",
    "version": 3
   },
   "file_extension": ".py",
   "mimetype": "text/x-python",
   "name": "python",
   "nbconvert_exporter": "python",
   "pygments_lexer": "ipython3",
   "version": "3.13.2"
  }
 },
 "nbformat": 4,
 "nbformat_minor": 2
}
